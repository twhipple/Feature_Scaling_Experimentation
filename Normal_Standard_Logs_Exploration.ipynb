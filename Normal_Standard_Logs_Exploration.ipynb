{
 "cells": [
  {
   "cell_type": "markdown",
   "metadata": {},
   "source": [
    "# Experimenting with Normalization and Standarization"
   ]
  },
  {
   "cell_type": "raw",
   "metadata": {},
   "source": [
    "This notebook is where I hope to gain more insight into the world of standarization, normalization, and log transformations. I will create a list and then apply the following above in order to learn more about how the data changes and reacts to each method."
   ]
  },
  {
   "cell_type": "code",
   "execution_count": 1,
   "metadata": {},
   "outputs": [],
   "source": [
    "import pandas as pd"
   ]
  },
  {
   "cell_type": "code",
   "execution_count": 62,
   "metadata": {},
   "outputs": [],
   "source": [
    "# I create a list of random numbers\n",
    "#import random\n",
    "#random_state=123\n",
    "#a_list = random.sample(range(9, 100), 8)\n",
    "#a_list"
   ]
  },
  {
   "cell_type": "code",
   "execution_count": 63,
   "metadata": {},
   "outputs": [],
   "source": [
    "# Here is another list I'll try\n",
    "#random_state=123\n",
    "#a_list = random.sample(range(999, 11000), 10)\n",
    "#a_list"
   ]
  },
  {
   "cell_type": "code",
   "execution_count": 94,
   "metadata": {},
   "outputs": [],
   "source": [
    "# Here is my own list - looking at a more skewed dataset\n",
    "a_list = [5640, 6890, 6821, 7777, 992, 7983, 10012, 4723, 7617, 9046]"
   ]
  },
  {
   "cell_type": "code",
   "execution_count": 95,
   "metadata": {},
   "outputs": [],
   "source": [
    "# Convert back into a dataframe with column names\n",
    "a_list_df = pd.DataFrame(a_list,  columns=['Original'])"
   ]
  },
  {
   "cell_type": "code",
   "execution_count": 96,
   "metadata": {},
   "outputs": [
    {
     "data": {
      "text/html": [
       "<div>\n",
       "<style scoped>\n",
       "    .dataframe tbody tr th:only-of-type {\n",
       "        vertical-align: middle;\n",
       "    }\n",
       "\n",
       "    .dataframe tbody tr th {\n",
       "        vertical-align: top;\n",
       "    }\n",
       "\n",
       "    .dataframe thead th {\n",
       "        text-align: right;\n",
       "    }\n",
       "</style>\n",
       "<table border=\"1\" class=\"dataframe\">\n",
       "  <thead>\n",
       "    <tr style=\"text-align: right;\">\n",
       "      <th></th>\n",
       "      <th>Original</th>\n",
       "    </tr>\n",
       "  </thead>\n",
       "  <tbody>\n",
       "    <tr>\n",
       "      <th>0</th>\n",
       "      <td>5640</td>\n",
       "    </tr>\n",
       "    <tr>\n",
       "      <th>1</th>\n",
       "      <td>6890</td>\n",
       "    </tr>\n",
       "    <tr>\n",
       "      <th>2</th>\n",
       "      <td>6821</td>\n",
       "    </tr>\n",
       "    <tr>\n",
       "      <th>3</th>\n",
       "      <td>7777</td>\n",
       "    </tr>\n",
       "    <tr>\n",
       "      <th>4</th>\n",
       "      <td>992</td>\n",
       "    </tr>\n",
       "    <tr>\n",
       "      <th>5</th>\n",
       "      <td>7983</td>\n",
       "    </tr>\n",
       "    <tr>\n",
       "      <th>6</th>\n",
       "      <td>10012</td>\n",
       "    </tr>\n",
       "    <tr>\n",
       "      <th>7</th>\n",
       "      <td>4723</td>\n",
       "    </tr>\n",
       "    <tr>\n",
       "      <th>8</th>\n",
       "      <td>7617</td>\n",
       "    </tr>\n",
       "    <tr>\n",
       "      <th>9</th>\n",
       "      <td>9046</td>\n",
       "    </tr>\n",
       "  </tbody>\n",
       "</table>\n",
       "</div>"
      ],
      "text/plain": [
       "   Original\n",
       "0      5640\n",
       "1      6890\n",
       "2      6821\n",
       "3      7777\n",
       "4       992\n",
       "5      7983\n",
       "6     10012\n",
       "7      4723\n",
       "8      7617\n",
       "9      9046"
      ]
     },
     "execution_count": 96,
     "metadata": {},
     "output_type": "execute_result"
    }
   ],
   "source": [
    "a_list_df"
   ]
  },
  {
   "cell_type": "code",
   "execution_count": 97,
   "metadata": {},
   "outputs": [],
   "source": [
    "from sklearn.preprocessing import StandardScaler"
   ]
  },
  {
   "cell_type": "code",
   "execution_count": 98,
   "metadata": {},
   "outputs": [],
   "source": [
    "scaler = StandardScaler()"
   ]
  },
  {
   "cell_type": "code",
   "execution_count": 99,
   "metadata": {},
   "outputs": [],
   "source": [
    "# Transform and fit the data\n",
    "a_list_scaled = scaler.fit_transform(a_list_df)"
   ]
  },
  {
   "cell_type": "code",
   "execution_count": 100,
   "metadata": {},
   "outputs": [
    {
     "data": {
      "text/plain": [
       "array([[-0.46190458],\n",
       "       [ 0.05821138],\n",
       "       [ 0.02950098],\n",
       "       [ 0.42728566],\n",
       "       [-2.39590375],\n",
       "       [ 0.51300077],\n",
       "       [ 1.35725299],\n",
       "       [-0.84346164],\n",
       "       [ 0.36071082],\n",
       "       [ 0.95530738]])"
      ]
     },
     "execution_count": 100,
     "metadata": {},
     "output_type": "execute_result"
    }
   ],
   "source": [
    "a_list_scaled"
   ]
  },
  {
   "cell_type": "code",
   "execution_count": 101,
   "metadata": {},
   "outputs": [],
   "source": [
    "# Looking at the numbers they are reduced significantly. "
   ]
  },
  {
   "cell_type": "code",
   "execution_count": 102,
   "metadata": {},
   "outputs": [],
   "source": [
    "from sklearn.preprocessing import MinMaxScaler"
   ]
  },
  {
   "cell_type": "code",
   "execution_count": 103,
   "metadata": {},
   "outputs": [],
   "source": [
    "scaler = MinMaxScaler()"
   ]
  },
  {
   "cell_type": "code",
   "execution_count": 104,
   "metadata": {},
   "outputs": [],
   "source": [
    "# Transform and fit the data\n",
    "a_list_normalized = scaler.fit_transform(a_list_df)"
   ]
  },
  {
   "cell_type": "code",
   "execution_count": 105,
   "metadata": {},
   "outputs": [
    {
     "data": {
      "text/plain": [
       "array([[0.51529933],\n",
       "       [0.65388027],\n",
       "       [0.6462306 ],\n",
       "       [0.75221729],\n",
       "       [0.        ],\n",
       "       [0.77505543],\n",
       "       [1.        ],\n",
       "       [0.41363636],\n",
       "       [0.73447894],\n",
       "       [0.89290466]])"
      ]
     },
     "execution_count": 105,
     "metadata": {},
     "output_type": "execute_result"
    }
   ],
   "source": [
    "a_list_normalized"
   ]
  },
  {
   "cell_type": "code",
   "execution_count": 106,
   "metadata": {},
   "outputs": [],
   "source": [
    "# All of these are between 0 and 1"
   ]
  },
  {
   "cell_type": "code",
   "execution_count": 107,
   "metadata": {},
   "outputs": [],
   "source": [
    "import numpy as np"
   ]
  },
  {
   "cell_type": "code",
   "execution_count": 108,
   "metadata": {},
   "outputs": [],
   "source": [
    "# Going to try log transformations too\n",
    "loglist = np.log(a_list)"
   ]
  },
  {
   "cell_type": "code",
   "execution_count": 109,
   "metadata": {},
   "outputs": [],
   "source": [
    "a_list_log = (loglist-np.mean(loglist))/np.sqrt(np.var(loglist))"
   ]
  },
  {
   "cell_type": "code",
   "execution_count": 110,
   "metadata": {},
   "outputs": [
    {
     "data": {
      "text/plain": [
       "array([-0.07784072,  0.23984478,  0.22387219,  0.43202296, -2.83581564,\n",
       "        0.47351141,  0.83290666, -0.35942778,  0.39903347,  0.67189267])"
      ]
     },
     "execution_count": 110,
     "metadata": {},
     "output_type": "execute_result"
    }
   ],
   "source": [
    "a_list_log"
   ]
  },
  {
   "cell_type": "code",
   "execution_count": 111,
   "metadata": {},
   "outputs": [],
   "source": [
    "a_list_df[\"Log\"] = a_list_log"
   ]
  },
  {
   "cell_type": "code",
   "execution_count": 112,
   "metadata": {},
   "outputs": [],
   "source": [
    "a_list_df[\"Normalized\"] = a_list_normalized"
   ]
  },
  {
   "cell_type": "code",
   "execution_count": 113,
   "metadata": {},
   "outputs": [],
   "source": [
    "a_list_df[\"Scaled\"] = a_list_scaled"
   ]
  },
  {
   "cell_type": "code",
   "execution_count": 114,
   "metadata": {},
   "outputs": [
    {
     "data": {
      "text/html": [
       "<div>\n",
       "<style scoped>\n",
       "    .dataframe tbody tr th:only-of-type {\n",
       "        vertical-align: middle;\n",
       "    }\n",
       "\n",
       "    .dataframe tbody tr th {\n",
       "        vertical-align: top;\n",
       "    }\n",
       "\n",
       "    .dataframe thead th {\n",
       "        text-align: right;\n",
       "    }\n",
       "</style>\n",
       "<table border=\"1\" class=\"dataframe\">\n",
       "  <thead>\n",
       "    <tr style=\"text-align: right;\">\n",
       "      <th></th>\n",
       "      <th>Original</th>\n",
       "      <th>Log</th>\n",
       "      <th>Normalized</th>\n",
       "      <th>Scaled</th>\n",
       "    </tr>\n",
       "  </thead>\n",
       "  <tbody>\n",
       "    <tr>\n",
       "      <th>0</th>\n",
       "      <td>5640</td>\n",
       "      <td>-0.077841</td>\n",
       "      <td>0.515299</td>\n",
       "      <td>-0.461905</td>\n",
       "    </tr>\n",
       "    <tr>\n",
       "      <th>1</th>\n",
       "      <td>6890</td>\n",
       "      <td>0.239845</td>\n",
       "      <td>0.653880</td>\n",
       "      <td>0.058211</td>\n",
       "    </tr>\n",
       "    <tr>\n",
       "      <th>2</th>\n",
       "      <td>6821</td>\n",
       "      <td>0.223872</td>\n",
       "      <td>0.646231</td>\n",
       "      <td>0.029501</td>\n",
       "    </tr>\n",
       "    <tr>\n",
       "      <th>3</th>\n",
       "      <td>7777</td>\n",
       "      <td>0.432023</td>\n",
       "      <td>0.752217</td>\n",
       "      <td>0.427286</td>\n",
       "    </tr>\n",
       "    <tr>\n",
       "      <th>4</th>\n",
       "      <td>992</td>\n",
       "      <td>-2.835816</td>\n",
       "      <td>0.000000</td>\n",
       "      <td>-2.395904</td>\n",
       "    </tr>\n",
       "    <tr>\n",
       "      <th>5</th>\n",
       "      <td>7983</td>\n",
       "      <td>0.473511</td>\n",
       "      <td>0.775055</td>\n",
       "      <td>0.513001</td>\n",
       "    </tr>\n",
       "    <tr>\n",
       "      <th>6</th>\n",
       "      <td>10012</td>\n",
       "      <td>0.832907</td>\n",
       "      <td>1.000000</td>\n",
       "      <td>1.357253</td>\n",
       "    </tr>\n",
       "    <tr>\n",
       "      <th>7</th>\n",
       "      <td>4723</td>\n",
       "      <td>-0.359428</td>\n",
       "      <td>0.413636</td>\n",
       "      <td>-0.843462</td>\n",
       "    </tr>\n",
       "    <tr>\n",
       "      <th>8</th>\n",
       "      <td>7617</td>\n",
       "      <td>0.399033</td>\n",
       "      <td>0.734479</td>\n",
       "      <td>0.360711</td>\n",
       "    </tr>\n",
       "    <tr>\n",
       "      <th>9</th>\n",
       "      <td>9046</td>\n",
       "      <td>0.671893</td>\n",
       "      <td>0.892905</td>\n",
       "      <td>0.955307</td>\n",
       "    </tr>\n",
       "  </tbody>\n",
       "</table>\n",
       "</div>"
      ],
      "text/plain": [
       "   Original       Log  Normalized    Scaled\n",
       "0      5640 -0.077841    0.515299 -0.461905\n",
       "1      6890  0.239845    0.653880  0.058211\n",
       "2      6821  0.223872    0.646231  0.029501\n",
       "3      7777  0.432023    0.752217  0.427286\n",
       "4       992 -2.835816    0.000000 -2.395904\n",
       "5      7983  0.473511    0.775055  0.513001\n",
       "6     10012  0.832907    1.000000  1.357253\n",
       "7      4723 -0.359428    0.413636 -0.843462\n",
       "8      7617  0.399033    0.734479  0.360711\n",
       "9      9046  0.671893    0.892905  0.955307"
      ]
     },
     "execution_count": 114,
     "metadata": {},
     "output_type": "execute_result"
    }
   ],
   "source": [
    "a_list_df"
   ]
  },
  {
   "cell_type": "code",
   "execution_count": 115,
   "metadata": {},
   "outputs": [
    {
     "data": {
      "text/html": [
       "<div>\n",
       "<style scoped>\n",
       "    .dataframe tbody tr th:only-of-type {\n",
       "        vertical-align: middle;\n",
       "    }\n",
       "\n",
       "    .dataframe tbody tr th {\n",
       "        vertical-align: top;\n",
       "    }\n",
       "\n",
       "    .dataframe thead th {\n",
       "        text-align: right;\n",
       "    }\n",
       "</style>\n",
       "<table border=\"1\" class=\"dataframe\">\n",
       "  <thead>\n",
       "    <tr style=\"text-align: right;\">\n",
       "      <th></th>\n",
       "      <th>Original</th>\n",
       "      <th>Log</th>\n",
       "      <th>Normalized</th>\n",
       "      <th>Scaled</th>\n",
       "    </tr>\n",
       "  </thead>\n",
       "  <tbody>\n",
       "    <tr>\n",
       "      <th>count</th>\n",
       "      <td>10.000000</td>\n",
       "      <td>1.000000e+01</td>\n",
       "      <td>10.000000</td>\n",
       "      <td>1.000000e+01</td>\n",
       "    </tr>\n",
       "    <tr>\n",
       "      <th>mean</th>\n",
       "      <td>6750.100000</td>\n",
       "      <td>8.104628e-16</td>\n",
       "      <td>0.638370</td>\n",
       "      <td>-1.665335e-16</td>\n",
       "    </tr>\n",
       "    <tr>\n",
       "      <th>std</th>\n",
       "      <td>2533.311423</td>\n",
       "      <td>1.054093e+00</td>\n",
       "      <td>0.280855</td>\n",
       "      <td>1.054093e+00</td>\n",
       "    </tr>\n",
       "    <tr>\n",
       "      <th>min</th>\n",
       "      <td>992.000000</td>\n",
       "      <td>-2.835816e+00</td>\n",
       "      <td>0.000000</td>\n",
       "      <td>-2.395904e+00</td>\n",
       "    </tr>\n",
       "    <tr>\n",
       "      <th>25%</th>\n",
       "      <td>5935.250000</td>\n",
       "      <td>-2.412491e-03</td>\n",
       "      <td>0.548032</td>\n",
       "      <td>-3.390532e-01</td>\n",
       "    </tr>\n",
       "    <tr>\n",
       "      <th>50%</th>\n",
       "      <td>7253.500000</td>\n",
       "      <td>3.194391e-01</td>\n",
       "      <td>0.694180</td>\n",
       "      <td>2.094611e-01</td>\n",
       "    </tr>\n",
       "    <tr>\n",
       "      <th>75%</th>\n",
       "      <td>7931.500000</td>\n",
       "      <td>4.631393e-01</td>\n",
       "      <td>0.769346</td>\n",
       "      <td>4.915720e-01</td>\n",
       "    </tr>\n",
       "    <tr>\n",
       "      <th>max</th>\n",
       "      <td>10012.000000</td>\n",
       "      <td>8.329067e-01</td>\n",
       "      <td>1.000000</td>\n",
       "      <td>1.357253e+00</td>\n",
       "    </tr>\n",
       "  </tbody>\n",
       "</table>\n",
       "</div>"
      ],
      "text/plain": [
       "           Original           Log  Normalized        Scaled\n",
       "count     10.000000  1.000000e+01   10.000000  1.000000e+01\n",
       "mean    6750.100000  8.104628e-16    0.638370 -1.665335e-16\n",
       "std     2533.311423  1.054093e+00    0.280855  1.054093e+00\n",
       "min      992.000000 -2.835816e+00    0.000000 -2.395904e+00\n",
       "25%     5935.250000 -2.412491e-03    0.548032 -3.390532e-01\n",
       "50%     7253.500000  3.194391e-01    0.694180  2.094611e-01\n",
       "75%     7931.500000  4.631393e-01    0.769346  4.915720e-01\n",
       "max    10012.000000  8.329067e-01    1.000000  1.357253e+00"
      ]
     },
     "execution_count": 115,
     "metadata": {},
     "output_type": "execute_result"
    }
   ],
   "source": [
    "a_list_df.describe()"
   ]
  },
  {
   "cell_type": "code",
   "execution_count": 116,
   "metadata": {},
   "outputs": [],
   "source": [
    "import matplotlib.pyplot as plt\n",
    "%matplotlib inline"
   ]
  },
  {
   "cell_type": "code",
   "execution_count": 123,
   "metadata": {},
   "outputs": [
    {
     "data": {
      "text/plain": [
       "Text(0.5, 1.0, 'Scaled')"
      ]
     },
     "execution_count": 123,
     "metadata": {},
     "output_type": "execute_result"
    },
    {
     "data": {
      "image/png": "[encoded data removed]",
      "text/plain": [
       "<Figure size 576x576 with 4 Axes>"
      ]
     },
     "metadata": {
      "needs_background": "light"
     },
     "output_type": "display_data"
    }
   ],
   "source": [
    "# I just want to look at a couple of these again AFTER the transformation.\n",
    "new_figure = plt.figure(figsize=(8,8))\n",
    "\n",
    "ax1 = plt.subplot(2, 2, 1)\n",
    "a_list_df.Original.hist(ax=ax1, color='purple')\n",
    "ax1.set_title(\"Original\")\n",
    "\n",
    "ax2 = plt.subplot(2, 2, 2)\n",
    "a_list_df.Log.hist(ax=ax2, color='blue')\n",
    "ax2.set_title('Log')\n",
    "\n",
    "ax3 = plt.subplot(2, 2, 3)\n",
    "a_list_df.Normalized.hist(ax=ax3, color='red')\n",
    "ax3.set_title(\"Normalized\")\n",
    "\n",
    "ax4 = plt.subplot(2, 2, 4)\n",
    "a_list_df.Scaled.hist(ax=ax4, color='orange')\n",
    "ax4.set_title('Scaled')"
   ]
  },
  {
   "cell_type": "code",
   "execution_count": 118,
   "metadata": {},
   "outputs": [],
   "source": [
    "# The basic graph shapes look the same except for Log Transformed. All with different scales."
   ]
  },
  {
   "cell_type": "code",
   "execution_count": 119,
   "metadata": {},
   "outputs": [],
   "source": [
    "import seaborn as sns"
   ]
  },
  {
   "cell_type": "code",
   "execution_count": 120,
   "metadata": {},
   "outputs": [],
   "source": [
    "import matplotlib.pyplot as plt\n",
    "%matplotlib inline"
   ]
  },
  {
   "cell_type": "code",
   "execution_count": 126,
   "metadata": {},
   "outputs": [
    {
     "data": {
      "image/png": "[encoded data removed]",
      "text/plain": [
       "<Figure size 576x576 with 4 Axes>"
      ]
     },
     "metadata": {
      "needs_background": "light"
     },
     "output_type": "display_data"
    }
   ],
   "source": [
    "new_figure = plt.figure(figsize=(8,8))\n",
    "plt.title('Box Plot of Feature Scaling')\n",
    "\n",
    "ax1 = plt.subplot(2, 2, 1)\n",
    "sns.boxplot(x='Original', data=a_list_df, color='purple')\n",
    "\n",
    "ax2 = plt.subplot(2, 2, 2)\n",
    "sns.boxplot(x='Log', data=a_list_df, color='blue')\n",
    "\n",
    "ax3 = plt.subplot(2, 2, 3)\n",
    "sns.boxplot(x='Normalized', data=a_list_df, color='red')\n",
    "\n",
    "ax4 = plt.subplot(2, 2, 4)\n",
    "sns.boxplot(x='Scaled', data=a_list_df, color='orange')\n",
    "\n",
    "plt.show()"
   ]
  },
  {
   "cell_type": "code",
   "execution_count": 93,
   "metadata": {},
   "outputs": [],
   "source": [
    "# Normalized is between 0 and 1.\n",
    "# Standard Scaler is between -1 and 1.\n",
    "# Log transformed changed the shape and outliers."
   ]
  },
  {
   "cell_type": "code",
   "execution_count": null,
   "metadata": {},
   "outputs": [],
   "source": []
  }
 ],
 "metadata": {
  "kernelspec": {
   "display_name": "Python 3",
   "language": "python",
   "name": "python3"
  },
  "language_info": {
   "codemirror_mode": {
    "name": "ipython",
    "version": 3
   },
   "file_extension": ".py",
   "mimetype": "text/x-python",
   "name": "python",
   "nbconvert_exporter": "python",
   "pygments_lexer": "ipython3",
   "version": "3.7.6"
  },
  "toc": {
   "base_numbering": 1,
   "nav_menu": {},
   "number_sections": true,
   "sideBar": true,
   "skip_h1_title": false,
   "title_cell": "Table of Contents",
   "title_sidebar": "Contents",
   "toc_cell": false,
   "toc_position": {},
   "toc_section_display": true,
   "toc_window_display": false
  }
 },
 "nbformat": 4,
 "nbformat_minor": 4
}
